{
 "cells": [
  {
   "cell_type": "markdown",
   "metadata": {},
   "source": [
    "# Logistic Regression\n",
    "\n"
   ]
  },
  {
   "cell_type": "markdown",
   "metadata": {},
   "source": [
    "Logistic regression is an importatn model for classification. Consider a dataset with $n$ samples, where $x_i^T = (x_{i1}, \\cdots, x_{ip})$ is the features vector, $y_i\\in \\{ 0, 1\\}$ is the class label for $i = 1, 2, \\ldots, n$.\n",
    "\n",
    "| obs |$X_{n\\times p}$| $Y_{n\\times 1}$ |\n",
    "|-----|-----------|-----|\n",
    "| 1   |    $x_1^T$  |$y_1$|\n",
    "| 2   |    $x_2^T$  |$y_2$|\n",
    "| ... |           |     |\n",
    "| n   |    $x_n^T$  |$y_n$|\n",
    "\n",
    "We assume the label follows a Bernoulli distribution $y_i \\sim \\textrm{Bernoulli}(p_i)$, $p(y_i=1) = p_i$.\n",
    "And we assume the logarithm of probability odd-ratio is a linear function\n",
    "$$\\log \\dfrac{p_i}{1-p_i} = x_i^T \\beta.$$\n",
    "\n",
    "Let $\\eta_i = x_i^T\\beta$ be the score, then the probability $p_i$ is simply a mapping from $\\mathbb{R}$ to $(0, 1)$\n",
    "$$p_i = f(\\eta_i) = \\dfrac{e^{x_i^T\\beta}}{1 + e^{x_i^T\\beta}} = \\dfrac{1}{1 + e^{-x_i^T\\beta}},$$\n",
    "where the function $f(\\eta_i) = \\dfrac{1}{1 + e^{-\\eta_i}}$ is the sigmoid function.\n",
    "\n",
    "The following code segment plots the curve of sigmoid function."
   ]
  },
  {
   "cell_type": "code",
   "execution_count": 24,
   "metadata": {
    "collapsed": false
   },
   "outputs": [
    {
     "data": {
      "image/png": "[encoded data removed]",
      "text/plain": [
       "<matplotlib.figure.Figure at 0x108bbd6d0>"
      ]
     },
     "metadata": {},
     "output_type": "display_data"
    }
   ],
   "source": [
    "%matplotlib inline\n",
    "\n",
    "import numpy as np\n",
    "import matplotlib.pyplot as plt\n",
    "\n",
    "def sigmoid(x):\n",
    "    return 1.0 / (1 + np.exp(-x))\n",
    "\n",
    "s = np.arange(-8, 8, 0.1)\n",
    "p = sigmoid(s)\n",
    "\n",
    "# plot the sigmoid curve.\n",
    "plt.figure(figsize=(10, 3))\n",
    "plt.plot(s, p)\n",
    "plt.grid()\n",
    "plt.title('Sigmoid function')\n",
    "plt.show()\n"
   ]
  },
  {
   "cell_type": "markdown",
   "metadata": {},
   "source": [
    "## Estimating $\\beta$\n",
    "\n",
    "To estimate $\\beta$, we find a maximum likelihood estimator.\n",
    "Consider the likelihood function \n",
    "$$\n",
    "L(\\beta) = \\prod_{i=1}^{n}p_i^{y_i} (1-p_i)^{1-y_i} = \\prod_{i=1}^{n} \\dfrac{e^{y_ix_i^T\\beta}}{1+e^{x_i^T\\beta}},\n",
    "$$\n",
    "we take the logarithm\n",
    "$$\\ell(\\beta) = \\log L(\\beta) = \\sum_{i=1}^{n} y_i x_i^T \\beta - \\log (1 + e^{x_i^T\\beta}).$$\n",
    "\n",
    "### Gradient ascent\n",
    "\n",
    "There is no close form solution for $\\beta$. To find the maximum, let's first take derivative \n",
    "$$\\ell'(\\beta) = \\sum_{i=1}^{n} y_i x_i - \\dfrac{e^{x_i^T\\beta}}{1+e^{x_i^T\\beta}}x_i = \\sum_{i=1}^{n} (y_i-p_i) x_i.$$\n",
    "\n",
    "And we use gradient ascent to iteratively update $\\beta$ along the gradient direction.\n",
    "$$\n",
    "\\begin{align*}\n",
    "\\beta_0 &= 0, \\\\\n",
    "\\beta_{t+1} &= \\beta_{t} + \\gamma \\sum_{i=1}^{n} (y_i-p_i)x_i,\n",
    "\\end{align*}\n",
    "$$\n",
    "where $\\gamma$ is usually called learning rate.\n",
    "Intuitively, the idea is to accumulatively memorizes the training examples on which the learner is not doing well, i.e. $y_i \\neq p_i$. It is very much like getting your homework graded and learning from the mistakes. \n",
    "\n",
    "## Newton-Raphson method\n",
    "\n",
    "A more efficient ways is to update $\\beta$ using Newton-Raphson method.\n",
    "\n",
    "Take second derivative of the log likelihood function, we have\n",
    "$$\\ell''(\\beta) = - \\sum_{i=1}^{n} p_i (1-p_i)x_ix_i^T.$$\n",
    "\n",
    "We then can update $beta$ with a larger learning rate:\n",
    "$$\\beta_{t+1} = \\beta_{t} + \\ell''(\\beta)^{-1} \\ell'(\\beta).$$\n",
    "\n",
    "## Relation to Linear Regression\n",
    "\n",
    "Let $w_i = p_i(1-p_i)$, we can rewrite the update equation as \n",
    "$$\n",
    "\\begin{align*}\n",
    "\\beta_{t+1} &= \\beta_{t} + \\left[ \\sum_{i=1}^{n} p_i (1-p_i)x_ix_i^T \\right]^{-1} (y_i-p_i)x_i \\\\\n",
    "& = \\left( \\sum_{i=1}^{n} w_i x_ix_i^T \\right)^{-1} \\left[ \\sum_{i=1}^{n} w_i x_ix_i^T \\beta_t + (y_i-p_i)x_i\\right] \\\\\n",
    "& = \\left( \\sum_{i=1}^{n} w_i x_ix_i^T \\right)^{-1} \\left[ \\sum_{i=1}^{n} w_i x_i \\left(x_i^T \\beta_t + \\dfrac{y_i-p_i}{w_i}\\right)\\right].\n",
    "\\end{align*}\n",
    "$$\n",
    "\n",
    "Let $z_i = x_i^T \\beta_t + \\dfrac{y_i-p_i}{w_i}, \\tilde{x_i} = \\dfrac{x_i}{\\sqrt{w_i}}, \\tilde{z_i} = \\dfrac{z_i}{\\sqrt{w_i}}$, we can further rewrite the equation above as follows.\n",
    "\n",
    "$$\n",
    "\\begin{align*}\n",
    "\\beta_{t+1} & = \\left( \\sum_{i=1}^{n} w_i x_ix_i^T \\right)^{-1} \\left( \\sum_{i=1}^{n} w_i x_i z_i \\right) \\\\\n",
    "& = \\left( \\sum_{i=1}^{n} \\tilde{x_i} \\tilde{x_i}^T \\right)^{-1} \\left( \\sum_{i=1}^{n} \\tilde{x_i} \\tilde{z_i} \\right).\n",
    "\\end{align*}\n",
    "$$\n",
    "\n",
    "This means we can actually view $\\beta_{t+1}$ as the solution to the linear regression\n",
    "$$\\tilde{z_i} = \\tilde{x_i}^T \\beta_{t+1}.$$\n",
    "\n",
    "Using Newton-Raphson method to solve logistic regression can be summarized as follows. This procedure is also referred to as *iterative re-weighted least squares (IRLS)*.\n",
    "\n",
    "* Start with $\\beta_t$,\n",
    "* $\\eta_i = x_i^T\\beta_t$.\n",
    "* $p_i = \\textrm{sigmoid}(\\eta_i)$,\n",
    "* $w_i = p_i(1-p_i)$,\n",
    "* $z_i = \\eta_i + \\dfrac{y_i-p_i}{w_i}$,\n",
    "* $\\tilde{x_i} = \\dfrac{x_i}{\\sqrt{w_i}}, \\tilde{z_i} = \\dfrac{z_i}{\\sqrt{w_i}}$,\n",
    "* $\\beta_{t+1} = \\texttt{solve}(\\tilde{z_i}, \\tilde{x_i}).$\n"
   ]
  },
  {
   "cell_type": "code",
   "execution_count": null,
   "metadata": {
    "collapsed": true
   },
   "outputs": [],
   "source": []
  }
 ],
 "metadata": {
  "kernelspec": {
   "display_name": "Python 2",
   "language": "python",
   "name": "python2"
  },
  "language_info": {
   "codemirror_mode": {
    "name": "ipython",
    "version": 2
   },
   "file_extension": ".py",
   "mimetype": "text/x-python",
   "name": "python",
   "nbconvert_exporter": "python",
   "pygments_lexer": "ipython2",
   "version": "2.7.10"
  }
 },
 "nbformat": 4,
 "nbformat_minor": 0
}

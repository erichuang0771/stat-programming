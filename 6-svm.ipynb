{
 "cells": [
  {
   "cell_type": "markdown",
   "metadata": {},
   "source": [
    "# Support Vector Machine\n",
    "\n"
   ]
  },
  {
   "cell_type": "markdown",
   "metadata": {},
   "source": [
    "## Primal Form\n",
    "\n",
    "Perceptron is an algorithm which separates two classes by the sign of transformed data, i.e. $y_i = \\textrm{sign}(x_i^T\\beta)$. However, there can be multiple $\\beta$'s which separates the data. The fundamental idea of SVM is to find the separating hyperplan with a _large margin_.\n",
    "\n",
    "<img src=\"figures/svm.pdf\">\n",
    "\n",
    "The goal is to find the $\\beta$, so that \n",
    "* for positive examples $y = +$, $x^T\\beta \\geq 1$,\n",
    "* for negative examples $y = -$, $x^T\\beta \\leq -1$.\n",
    "\n",
    "Here we use +1 and -1, becasuse we can always scale $\\beta$ to make the margin 1.\n",
    "\n",
    "The decision boundary is essentially decided by the training examples that lies on the margin.\n",
    "Let $u$ be an unit vector who has the same direction as $\\beta$.\n",
    "$$u = \\dfrac{\\beta}{|\\beta|}.$$\n",
    "\n",
    "Suppose $x$ is an example on the margin (a.k.a. support vector), the projection of $x$ on $u$ is \n",
    "\n",
    "$$\\langle x, u \\rangle = \\langle x, \\dfrac{\\beta}{|\\beta|} \\rangle  = \\dfrac{x^T\\beta}{|\\beta|} = \\dfrac{1}{|\\beta|}.$$\n",
    "\n",
    "Hence, the SVM can be formulated as an optimization problem as follows:\n",
    "$$\n",
    "\\begin{align}\n",
    "\\textrm{minimize} \\quad& \\dfrac{1}{2} |\\beta|^2, \\\\\n",
    "\\textrm{subject to} \\quad & y_i x_i^T\\beta \\geq 1, \\forall i.\n",
    "\\end{align}\n",
    "$$\n",
    "\n",
    "This is called the **primal form**."
   ]
  },
  {
   "cell_type": "markdown",
   "metadata": {},
   "source": [
    "## Hinge loss\n",
    "\n",
    "When the data is not separatable, SVM can be defined as follows which allows limited cross margin $\\xi$.\n",
    "$$\n",
    "\\begin{align}\n",
    "\\textrm{minimize} \\quad& \\dfrac{1}{2} |\\beta|^2 + c\\sum_{i=1}^{n}\\xi_i, \\\\\n",
    "\\textrm{subject to} \\quad & y_i x_i^T\\beta \\geq 1 - \\xi_i, \\forall i.\n",
    "\\end{align}\n",
    "$$\n",
    "\n",
    "This is equivalent to \n",
    "\n",
    "$$\\textrm{minimize}\\quad \\dfrac{1}{2} |\\beta|^2 + c \\sum_{i=1}^{n} \\max (0, 1 - y_i x_i^T \\beta),$$\n",
    "\n",
    "where $\\sum_{i=1}^{n} \\max (0, 1 - y_i x_i^T \\beta)$ is usually called the **hinge loss**.\n",
    "\n",
    "From this perspective, SVM can be think of an approximation to the loss of logistic regression hinge loss with a L-2 regularization.\n",
    "\n",
    "$$\n",
    "\\begin{align}\n",
    "\\ell_{\\textrm{logistic}}(\\beta) &= \\sum_{i=1}^{n} \\log(1+e^{-y_i x_i^T \\beta}), \\\\\n",
    "\\ell_{\\textrm{svm}}(\\beta) &= \\sum_{i=1}^{n} \\max (0, 1 - y_i x_i^T \\beta) + \\dfrac{\\lambda}{2}|\\beta|^2.\n",
    "\\end{align}\n",
    "$$\n",
    "\n",
    "The following code segment plots the two loss functions."
   ]
  },
  {
   "cell_type": "code",
   "execution_count": 1,
   "metadata": {
    "collapsed": false
   },
   "outputs": [
    {
     "data": {
      "image/png": "[encoded data removed]",
      "text/plain": [
       "<matplotlib.figure.Figure at 0x107a9c910>"
      ]
     },
     "metadata": {},
     "output_type": "display_data"
    }
   ],
   "source": [
    "%matplotlib inline\n",
    "\n",
    "import numpy as np\n",
    "import matplotlib.pyplot as plt\n",
    "\n",
    "def logit_loss(s):\n",
    "    return np.log(1 + np.exp(-s))\n",
    "\n",
    "def hinge_loss(s):\n",
    "    return np.maximum(0, 1-s)\n",
    "\n",
    "s = np.arange(-3, 3, 0.1)\n",
    "\n",
    "# plot the sigmoid curve.\n",
    "plt.figure(figsize=(6, 3))\n",
    "plt.plot(s, logit_loss(s), label=\"Logistic\")\n",
    "plt.plot(s, hinge_loss(s), color='r', label=\"Hinge loss\")\n",
    "plt.grid()\n",
    "plt.legend()\n",
    "plt.show()"
   ]
  },
  {
   "cell_type": "markdown",
   "metadata": {},
   "source": [
    "## SVM by gradient descent\n",
    "\n",
    "Given the loss function $\\ell_(\\beta) = \\sum_{i=1}^{n} \\max (0, 1 - y_i x_i^T \\beta) + \\dfrac{\\lambda}{2}|\\beta|^2$, we can solve $\\beta$ by gradient descent.\n",
    "\n",
    "Take derivative, we have\n",
    "\n",
    "$$\n",
    "\\dfrac{\\partial \\ell}{\\partial \\beta} = \\sum_{i=1}^{n} \\mathbb{1}(1-y_i x_i^T \\beta < 1)\\cdot (-y_i x_i) + \\lambda \\beta,\n",
    "$$\n",
    "where $\\mathbb{1}(\\cdot)$ is an indicator function.\n",
    "\n",
    "The code from logistic regression can be reused with a minor change in the gradient calculation."
   ]
  },
  {
   "cell_type": "code",
   "execution_count": 2,
   "metadata": {
    "collapsed": false
   },
   "outputs": [],
   "source": [
    "np.random.seed(1)\n",
    "\n",
    "def svm(x, y, x_test, y_test, num_iteration=1000, learning_rate=1e-2, regularization=0.1):\n",
    "    r, c = x.shape\n",
    "\n",
    "    p = c + 1\n",
    "    X = np.hstack((np.ones((r,1)), x))\n",
    "    beta = 2*np.random.randn(p, 1)-1\n",
    "    \n",
    "    X_test = np.hstack((np.ones((x_test.shape[0],1)), x_test))\n",
    "    acc, acc_test = [], []\n",
    "    \n",
    "    for i in xrange(num_iteration):\n",
    "        score = X.dot(beta)\n",
    "        db = (score * y) < 1\n",
    "        dbeta = X.T.dot(db*y) / r;\n",
    "        beta = beta + learning_rate *dbeta - regularization*beta; \n",
    "        \n",
    "        # accuracy on training and testing data\n",
    "        acc.append(np.mean(np.sign(score) == y))\n",
    "        acc_test.append(np.mean(np.sign(X_test.dot(beta)) == y_test))\n",
    "    \n",
    "    return beta, acc, acc_test\n"
   ]
  },
  {
   "cell_type": "code",
   "execution_count": 3,
   "metadata": {
    "collapsed": false
   },
   "outputs": [
    {
     "name": "stdout",
     "output_type": "stream",
     "text": [
      "# training: 255\n",
      "# testing : 110\n"
     ]
    },
    {
     "data": {
      "image/png": "[encoded data removed]",
      "text/plain": [
       "<matplotlib.figure.Figure at 0x107d52650>"
      ]
     },
     "metadata": {},
     "output_type": "display_data"
    }
   ],
   "source": [
    "from common import load_digits, split_samples\n",
    "\n",
    "# Load digits and split the data into two sets.\n",
    "digits, labels = load_digits(subset=[3, 5], normalize=True)\n",
    "training_digits, training_labels, testing_digits, testing_labels = split_samples(digits, labels)\n",
    "\n",
    "print '# training:', training_digits.shape[0]\n",
    "print '# testing :', testing_digits.shape[0]\n",
    "\n",
    "# Transform labels from {0, 1} to {-1, 1}.\n",
    "training_labels = 2* training_labels -1\n",
    "testing_labels = 2* testing_labels -1\n",
    "\n",
    "# Train a svm classifier.\n",
    "beta, acc, acc_test = svm(training_digits, training_labels, testing_digits, testing_labels)\n",
    "\n",
    "# Plot the accuracy.\n",
    "plt.figure()\n",
    "plt.plot(range(len(acc)), acc, color='b', label='Training Accuracy')\n",
    "plt.plot(range(len(acc)), acc_test, color='r', label='Testing Accuracy')\n",
    "plt.legend(loc='best')\n",
    "plt.show()"
   ]
  },
  {
   "cell_type": "markdown",
   "metadata": {},
   "source": [
    "## Dual form\n",
    "\n",
    "Historically, people transfrom the primal form to a dual form. The idea is to view the problem from the geometry perspective.\n",
    "\n",
    "<img src=\"figures/svm-dual.pdf\">\n",
    "\n",
    "Consider the convex hull of the positive and negative population, the margin between the two population is therefore defined by the minimum distance betweent two. Let $x_{+} = \\sum_{i\\in +} c_i x_i$ and $x_{-} = \\sum_{i\\in -} c_i x_i$ ($c_i \\geq 0, \\sum_{i\\in +} c_i = 1, \\sum_{i\\in -} c_i = 1$) be two points in the positive and negative population (in the region of the convex hull). The margin is \n",
    "$$\\min \\left|x_{+} - x_{-}\\right|^2.$$\n",
    "\n",
    "It can be rewriten as \n",
    "$$\n",
    "\\begin{align}\n",
    "\\left|x_{+} - x_{-}\\right|^2 &= \\left| \\sum_{i\\in +} c_i x_i - \\sum_{i\\in -} c_i x_i \\right|^2 \\\\  \n",
    "&= \\left| \\sum_{i} y_i c_i x_i \\right |^2 \\\\  \n",
    "&= \\sum_{i,j} c_i, c_j y_i y_j \\langle x_i , x_j \\rangle, \\\\\n",
    "\\textrm{subject to} \\quad & c_i \\geq 0, \\sum_{i\\in +} c_i = 1, \\sum_{i\\in -} c_i = 1.\n",
    "\\end{align}\n",
    "$$\n",
    "\n",
    "After we solve for $c$, non-zeros $c_i$'s are support vectors, i.e. data examples on the boundary."
   ]
  },
  {
   "cell_type": "code",
   "execution_count": null,
   "metadata": {
    "collapsed": true
   },
   "outputs": [],
   "source": []
  }
 ],
 "metadata": {
  "kernelspec": {
   "display_name": "Python 2",
   "language": "python",
   "name": "python2"
  },
  "language_info": {
   "codemirror_mode": {
    "name": "ipython",
    "version": 2
   },
   "file_extension": ".py",
   "mimetype": "text/x-python",
   "name": "python",
   "nbconvert_exporter": "python",
   "pygments_lexer": "ipython2",
   "version": "2.7.10"
  }
 },
 "nbformat": 4,
 "nbformat_minor": 0
}

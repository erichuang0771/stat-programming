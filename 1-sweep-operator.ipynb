{
 "cells": [
  {
   "cell_type": "markdown",
   "metadata": {},
   "source": [
    "# SWEEP Operator\n",
    "\n",
    "Where $A = (a_{ij})$ is a $n\\times n$ square matrix,\n",
    "the SWEEP operator on $A$ and $k$ is defined as $\\textrm{SWEEP}(A, k) = \\tilde {A}$, where\n",
    "\n",
    "$\\tilde{a}_{ij} = a_{ij} − \\dfrac{a_{ik}a_{kj}}{a_{kk}}$, for all $i,j \\neq k$,\n",
    "\n",
    "$\\tilde{a}_{kj} = \\dfrac{a_{kj}}{a_{kk}}$, for all $j \\neq k$,\n",
    "\n",
    "$\\tilde{a}_{ik} = \\dfrac{a_{ik}}{a_{kk}}$, for all $i \\neq k$,\n",
    "\n",
    "$\\tilde{a}_{kk} = - \\dfrac{1}{a_{kk}}$.\n"
   ]
  },
  {
   "cell_type": "code",
   "execution_count": 1,
   "metadata": {
    "collapsed": false
   },
   "outputs": [],
   "source": [
    "import numpy as np\n",
    "\n",
    "def sweep(A, k):\n",
    "    \"\"\"\n",
    "    Perform a SWEEP operation on A with the pivot element A[k,k].\n",
    "    \n",
    "    :param A: a square matrix.\n",
    "    :param k: the pivot element is A[k, k].\n",
    "    :returns a swept matrix. Original matrix is unchanged.\n",
    "    \"\"\"\n",
    "    n = A.shape[0]\n",
    "    if A.shape != (n, n):\n",
    "        raise ValueError('A is not a square array.')\n",
    "    if k >= n or k < 0:\n",
    "        raise IndexError('k is not a valid row index for pivot element.')\n",
    "        \n",
    "    #  Fill with the general formula\n",
    "    B = A - np.outer(A[:, k], A[k, :]) / A[k, k]\n",
    "    \n",
    "    # Modify the k-th row and column\n",
    "    B[k, :] = A[k, :] / A[k, k]\n",
    "    B[:, k] = A[:, k] / A[k, k]\n",
    "    \n",
    "    # Modify the pivot\n",
    "    B[k, k] = -1 / A[k, k]\n",
    "    return B"
   ]
  },
  {
   "cell_type": "markdown",
   "metadata": {},
   "source": [
    "## Apply repeatedly\n",
    "\n",
    "Suppose we split a $n\\times n$ matrix $A$ into four blocks\n",
    "$$A = \\begin{bmatrix} A_{11} & A_{12} \\\\ A_{21} & A_{22} \\end{bmatrix},$$ \n",
    "where $A_{11}$ is a $m\\times m$ matrix.\n",
    "\n",
    "Using SWEEP operator repeatedly with $k=1, 2, \\ldots, m$, we get\n",
    "$$\\textrm{SWEEP}(A, 1\\cdots m) = \\begin{bmatrix} -A_{11}^{-1} & A_{11}^{-1}A_{12} \\\\ A_{21}A_{11}^{-1} & A_{22} - \n",
    "A_{21}A_{11}^{-1}A_{12} \\end{bmatrix}.$$\n",
    "\n",
    "As a special case, $\\textrm{SWEEP}(A, 1\\cdots n) = -A^{-1}$."
   ]
  },
  {
   "cell_type": "code",
   "execution_count": 2,
   "metadata": {
    "collapsed": false
   },
   "outputs": [
    {
     "name": "stdout",
     "output_type": "stream",
     "text": [
      "A_swp:\n",
      "[[-1.    0.85 -0.35]\n",
      " [ 3.   -1.4   0.4 ]\n",
      " [-2.    0.65 -0.15]]\n",
      "Determinant of A: -20.0\n"
     ]
    }
   ],
   "source": [
    "# Use our sweep function.\n",
    "A = np.array([[1,2,3],[7,11,13],[17,21,23]], dtype=float)\n",
    "\n",
    "# Perform sweep operator repeatedly.\n",
    "det_A = 1\n",
    "A_swp = A.copy()\n",
    "for k in (0, 1, 2):\n",
    "    det_A *= A_swp[k, k]\n",
    "    A_swp = sweep(A_swp, k)\n",
    "    \n",
    "print 'A_swp:\\n', A_swp\n",
    "print 'Determinant of A:', det_A"
   ]
  },
  {
   "cell_type": "markdown",
   "metadata": {},
   "source": [
    "## Solving the least square\n",
    "\n",
    "In linear regression $Y = X^{T}\\beta + \\epsilon$, where $\\epsilon_i \\sim N(0, \\sigma^2)$.\n",
    "\n",
    "When solving the least square estimator\n",
    "$$\\hat{\\beta} = \\arg\\min_{\\beta} |Y - X^{T}\\beta|^{2} = (X^{T}X)^{-1}X^{T}Y,$$\n",
    "we construct a matrix $Z = \\begin{bmatrix} X & Y \\end{bmatrix}$,\n",
    "\n",
    "$$A= Z^{T}Z = \\begin{bmatrix} X^{T}X & X^{T}Y \\\\ Y^{T}X & Y^{T}Y \\end{bmatrix}.$$\n",
    "\n",
    "Using SWEEP operator repeatedly with $k=1,2,\\ldots, p$, \n",
    "$$\\textrm{SWEEP}(A, 1\\cdots p) = \\begin{bmatrix} -(X^{T}X)^{-1} & (X^{T}X)^{-1}X^{T}Y \\\\ Y^{T}X(X^{T}X)^{-1} & Y^{T}Y - Y^{T}X(X^{T}X)^{-1}X^{T}Y \\end{bmatrix} = \\begin{bmatrix} -\\dfrac{\\mathrm{Var}[\\hat{\\beta}]}{\\sigma^2} & \\hat{\\beta} \\\\ \\hat{\\beta}^{T} & \\textrm{RSS} \\end{bmatrix},$$\n",
    "where $\\textrm{RSS} = Y^{T}Y - \\hat{Y}^{T}\\hat{Y}$ is the residual sum of squares."
   ]
  },
  {
   "cell_type": "code",
   "execution_count": 3,
   "metadata": {
    "collapsed": false
   },
   "outputs": [
    {
     "name": "stdout",
     "output_type": "stream",
     "text": [
      "----- SCIPY -----\n",
      "[scipy] coefficients: [ 1.  2.  3.  4.  5.]\n",
      "[scipy]      residue: 0.0\n",
      "----- SWEEP -----\n",
      "[sweep] coefficients: [-0.  1.  2.  3.  4.  5.]\n",
      "[sweep]     residure: -0.0\n"
     ]
    }
   ],
   "source": [
    "#======================================\n",
    "# Generate a testing data.\n",
    "#======================================\n",
    "n, p = 100, 5\n",
    "\n",
    "# Generate a random n-by-p data matrix.\n",
    "X = np.random.normal(0, 1, (n, p))\n",
    "\n",
    "# Assume the real coefficients are 1 ... p. Intercept is 0.\n",
    "# This is the ground-truth we want to evaluate our code against.\n",
    "beta = np.array(range(1, p+1))\n",
    "\n",
    "# Synthesis the output Y.\n",
    "Y = np.dot(X, beta)\n",
    "\n",
    "#======================================\n",
    "# Solve by scipy.\n",
    "#======================================\n",
    "from scipy import linalg\n",
    "coef, resid, rank, sigma = linalg.lstsq(X, Y)\n",
    "print '----- SCIPY -----'\n",
    "print '[scipy] coefficients:', coef.round(6)\n",
    "print '[scipy]      residue:', resid.round(6)\n",
    "\n",
    "#======================================\n",
    "# Solve by sweep.\n",
    "#======================================\n",
    "# Stack an additional n-by-1 ones vector for solving intercepts.\n",
    "Z = np.hstack((np.ones(n).reshape((n, 1)), X, Y.reshape((n, 1))))\n",
    "A = np.dot(Z.T, Z)\n",
    "\n",
    "S = A\n",
    "for k in range(p+1): # +1 because we added one intercept column.\n",
    "    S = sweep(S, k)\n",
    "    \n",
    "beta = S[:p+1, -1]\n",
    "rss = S[-1, -1]\n",
    "print '----- SWEEP -----'\n",
    "print '[sweep] coefficients:', beta.round(6)\n",
    "print '[sweep]     residure:', rss.round(6)"
   ]
  },
  {
   "cell_type": "code",
   "execution_count": null,
   "metadata": {
    "collapsed": true
   },
   "outputs": [],
   "source": []
  }
 ],
 "metadata": {
  "kernelspec": {
   "display_name": "Python 2",
   "language": "python",
   "name": "python2"
  },
  "language_info": {
   "codemirror_mode": {
    "name": "ipython",
    "version": 2
   },
   "file_extension": ".py",
   "mimetype": "text/x-python",
   "name": "python",
   "nbconvert_exporter": "python",
   "pygments_lexer": "ipython2",
   "version": "2.7.9"
  }
 },
 "nbformat": 4,
 "nbformat_minor": 0
}

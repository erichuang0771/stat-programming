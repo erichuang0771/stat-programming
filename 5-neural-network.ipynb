{
 "cells": [
  {
   "cell_type": "markdown",
   "metadata": {},
   "source": [
    "# Neural Network"
   ]
  },
  {
   "cell_type": "markdown",
   "metadata": {},
   "source": [
    "In the logistic regression, we transform the data $x$ by a linear transformation $x^T\\beta$ and determine the class label by a non-linear sigmoid function. When $x$ are not good features, however, we can construct new features $z$ from $x$ through some non-linear transformation. And the class label can be inferred based on the transformed features.\n",
    "\n",
    "* $y_i \\sim \\textrm{Ber}(p_i)$ \n",
    "* $p_i = \\textrm{sigmoid}(z_i^T\\beta)$\n",
    "\n",
    "Now the question becomes, how to find the transformed features $z_i$. This can be problem-dependent and usually requires domain knowledge in real-world applications.\n",
    "Here, for simplicity, we assume $z_i$ is constructed by a logistic regression on $x_i$.\n",
    "\n",
    "* $z_{ik} = \\textrm{sigmoid}(x_i^T \\alpha_k)$.\n",
    "\n",
    "Now, we obtained a very simple two-layer neural network."
   ]
  },
  {
   "cell_type": "markdown",
   "metadata": {},
   "source": [
    "Let's implement the sigmoid function first for later use."
   ]
  },
  {
   "cell_type": "code",
   "execution_count": 1,
   "metadata": {
    "collapsed": true
   },
   "outputs": [],
   "source": [
    "%matplotlib inline\n",
    "\n",
    "import numpy as np\n",
    "import matplotlib.pyplot as plt\n",
    "\n",
    "np.random.seed(1)\n",
    "\n",
    "def sigmoid(x):\n",
    "    return 1 / (1 + np.exp(-x))\n",
    "\n",
    "def dsigmoid(y):\n",
    "    return y * (1.0 - y)"
   ]
  },
  {
   "cell_type": "markdown",
   "metadata": {},
   "source": [
    "## Loss Function\n",
    "\n",
    "Since the top-most layer is still a logistic regression, we can define the loss function as the negative log likelihood. Our objective is to minimize this loss.\n",
    "\n",
    "$$\\ell  = - \\frac{1}{n}\\sum_{i=1}^{n}( y_i \\log p_i + (1-y_i) \\log (1-p_i) ) $$"
   ]
  },
  {
   "cell_type": "code",
   "execution_count": 2,
   "metadata": {
    "collapsed": true
   },
   "outputs": [],
   "source": [
    "def loss_neg_likelihood(p, y):\n",
    "    \"\"\"\n",
    "    Average negative log likelihood as loss function.\n",
    "\n",
    "    Args:\n",
    "        p: predicted probability of shape (n, 1).\n",
    "        y: true values of shape (n, 1).\n",
    "\n",
    "    Returns:\n",
    "        L: the loss. It is a scalar.\n",
    "        dp: the derivative of loss to predictions p of shape (n, 1)\n",
    "    \"\"\"\n",
    "    loss = -np.sum( y*np.log(p) + (1-y)*np.log(1-p) ) / p.shape[0]\n",
    "    dy = (1 - y)/(1 - p) - (y / p)\n",
    "    dy = dy / y.shape[0]\n",
    "    return loss, dy"
   ]
  },
  {
   "cell_type": "markdown",
   "metadata": {},
   "source": [
    "Alternatively, we can also use the least squares error.\n",
    "\n",
    "$$\\ell = \\sum_{i=1}^{n} (y_i - p_i)^2$$"
   ]
  },
  {
   "cell_type": "code",
   "execution_count": 3,
   "metadata": {
    "collapsed": true
   },
   "outputs": [],
   "source": [
    "def loss_l2(p, y):\n",
    "    \"\"\"\n",
    "    Use L2-norm (least squares error) as loss function.\n",
    "\n",
    "    Args:\n",
    "        p: predicted probability of shape (n, 1).\n",
    "        y: true values of shape (n, 1).\n",
    "\n",
    "    Returns:\n",
    "        L: the loss. It is a scalar.\n",
    "        dp: the derivative of loss to predictions p of shape (n, 1)\n",
    "    \"\"\"\n",
    "    loss = np.sum(np.square(y - p))\n",
    "    dp = -(y - p)\n",
    "    return loss, dp"
   ]
  },
  {
   "cell_type": "markdown",
   "metadata": {},
   "source": [
    "Note that in the implementation, we returned two values: loss and derivative.\n",
    "Essentially we will only use the derivative to calculate gradient when apply gradient descent to minimize the loss.\n",
    "But usually we want to keep tracking the loss to determine when to terminate the optimization."
   ]
  },
  {
   "cell_type": "markdown",
   "metadata": {},
   "source": [
    "## Feedforward\n",
    "\n",
    "To get the final output from the network, we need to transform the data input data $x$ through the layers in the network. This is called _feedforward_. The parameters in each layer is called _weights_ and _bias_.\n",
    "\n",
    "In our two-layer network case, the operation in each layer is simply a linear transformation followed by a sigmoid function. In the implementation, we abstract this to become a `feed_forward(X, W, b)` function which can be used by both layers, where `X` is the input data to this layer, `W` and `b` are the weights and bias, respectively. The return value of this function is the layer's output."
   ]
  },
  {
   "cell_type": "code",
   "execution_count": 4,
   "metadata": {
    "collapsed": true
   },
   "outputs": [],
   "source": [
    "def feed_forward(X, W, b):\n",
    "    \"\"\"\n",
    "    Feed forward a logistic regression layer.\n",
    "\n",
    "    Args:\n",
    "        X: Input data of shape (n, p).\n",
    "            n = # of data examples.\n",
    "            p = # of predictors.\n",
    "        W: Weight matrix in this layer of shape (p, d)\n",
    "            p = # of predictors.\n",
    "            d = # of nodes in the next layer.\n",
    "        b: bias terms of shape (d, )\n",
    "\n",
    "    Returns:\n",
    "        y = sigmoid(XW + b.T)  of shape (n, d)\n",
    "    \"\"\"\n",
    "    p = sigmoid(X.dot(W) + b)\n",
    "    params = (X, W, b, p)\n",
    "    return p, params"
   ]
  },
  {
   "cell_type": "markdown",
   "metadata": {},
   "source": [
    "## Backpropagation\n",
    "In our network, the parameters we want to update are $\\beta$ and $\\alpha_k$'s.\n",
    "\n",
    "Suppose the top layer loss function is $\\ell$, we want to calculate the following two derivatives:\n",
    "\n",
    "* $\\dfrac{\\partial \\ell}{\\partial \\beta}$,\n",
    "* $\\dfrac{\\partial \\ell}{\\partial \\alpha} = \\dfrac{\\partial \\ell}{\\partial z} \\dfrac{\\partial z}{\\partial \\alpha}$.\n",
    "\n",
    "Note that when calculate the gradient of parameters in the lower layer,\n",
    "we are actually using the chain rule where the loss is propagated back from upper layers. \n",
    "Hence, this is called _backpropagation_.\n",
    "\n",
    "\n",
    "Then we use these gradient to update the parameters.\n",
    "\n",
    "* $\\beta_{t+1} = \\beta_t + \\dfrac{\\partial \\ell}{\\partial \\beta}$,\n",
    "* $\\alpha_{k,t+1} = \\alpha_{k,t} + \\dfrac{\\partial \\ell}{\\partial \\alpha}$.\n",
    "\n",
    "In the implementation, we want to abstract the operations.\n",
    "Suppose $X$ and $y$ are input and output of one layer, $W$ and $b$ are weights and bias in this layer, respectively, the backpropagation operation of the layer simply computes three values:\n",
    "\n",
    "* $\\dfrac{dy}{dW}$ and $\\dfrac{dy}{db}$ are the derivative to the parameters in this layer.\n",
    "* $\\dfrac{dy}{dX}$ is the derivative to the input of this layer, which will be propagated back to lower layers."
   ]
  },
  {
   "cell_type": "code",
   "execution_count": 5,
   "metadata": {
    "collapsed": true
   },
   "outputs": [],
   "source": [
    "def back_prop(dy, params):\n",
    "    \"\"\"\n",
    "    Back propagation of a logistic regression layer.\n",
    "\n",
    "    Args:\n",
    "        dy: Derivatives output of this layer of shape (n, d)\n",
    "        params: A tuple of parameters at the current layer.\n",
    "                In logistic regression layer, we have (X, W, b, p).\n",
    "\n",
    "    Returns:\n",
    "        dX: Derivatives to the input for BP to previous layers.\n",
    "            Same shape of X: (n, p)\n",
    "\n",
    "        dW: Derivatives to weights W at this layer.\n",
    "            Same shape of W: (p, d)\n",
    "\n",
    "        db: Derivatives to bias b at this layer.\n",
    "            Same shape of b: (d, )\n",
    "    \"\"\"\n",
    "    # Unpack params\n",
    "    X, W, b, p = params\n",
    "\n",
    "    dactivate = dsigmoid(p)\n",
    "\n",
    "    dW = X.T.dot(dy * dactivate)\n",
    "    db = np.sum(dy * dactivate, axis=0)\n",
    "    dX = (dy * dactivate).dot(W.T)\n",
    "\n",
    "    return dX, dW, db"
   ]
  },
  {
   "cell_type": "markdown",
   "metadata": {},
   "source": [
    "## Training\n",
    "\n",
    "In the training phase, we apply gradient descent which iteratively update the parameters in the network.\n",
    "Conceptually, each iteration consists of three operations:\n",
    "\n",
    "* feed forward to get current network output\n",
    "* backpropagation to get gradients\n",
    "* update the paramters along the gradients\n",
    "\n",
    "Here we also implement a `accuracy()` function to calculate the classification accuracy of our network."
   ]
  },
  {
   "cell_type": "code",
   "execution_count": 6,
   "metadata": {
    "collapsed": true
   },
   "outputs": [],
   "source": [
    "def accuracy(p, y):\n",
    "    \"\"\"\n",
    "    Calculate the accuracy of predictions against truth labels.\n",
    "\n",
    "        Accuracy = # of correct predictions / # of data.\n",
    "\n",
    "    Args:\n",
    "        p: predictions of shape (n, 1)\n",
    "        y: true labels of shape (n, 1)\n",
    "\n",
    "    Returns:\n",
    "        accuracy: The ratio of correct predictions to the size of data.\n",
    "    \"\"\"\n",
    "    return np.mean((p > 0.5) == (y == 1))\n",
    "\n",
    "def train(X, y, num_hidden=100, num_classes=1, num_iterations=2000,\n",
    "            loss_function=loss_l2,\n",
    "            learning_rate=1e-2):\n",
    "    \"\"\"\n",
    "    Make prediction on X using model by doing forward feeding.\n",
    "\n",
    "    Args:\n",
    "        X: The data matrix of shape (n, p)\n",
    "        y: The label for data of shape (n, p)\n",
    "        num_hidden: number of neurons in the hidden layer.\n",
    "        num_classes: 1 as we are doing binary classification.\n",
    "        num_iterations: number of iterations to do training.\n",
    "        loss_function: what loss function to use.\n",
    "        learning_rate: learning rate for updating parameters.\n",
    "\n",
    "    Returns:\n",
    "        model: tuple of trained parameters (W1, b1, W2, b2).\n",
    "        all_loss: a list of losses after each iteration.\n",
    "        accuracies: a list of training accuracies after each iteration.\n",
    "\n",
    "    \"\"\"\n",
    "    n, p = X.shape\n",
    "\n",
    "    # Initialize parameters.\n",
    "    # Weights and bias two layers, random numbers centered at 0.\n",
    "    W1 = 2*np.random.randn(p, num_hidden) - 1\n",
    "    b1 = 2*np.random.randn(num_hidden, ) - 1\n",
    "    W2 = 2*np.random.randn(num_hidden, num_classes) - 1\n",
    "    b2 = 2*np.random.randn(num_classes, ) - 1\n",
    "\n",
    "    all_loss = []\n",
    "    accuracies = []\n",
    "\n",
    "    for it in xrange(num_iterations):\n",
    "        # Feed forward.\n",
    "        Z, params1 = feed_forward(X, W1, b1)\n",
    "        y_out, params2 = feed_forward(Z, W2, b2)\n",
    "\n",
    "        # Calculate the loss.\n",
    "        loss, dy = loss_function(y_out, y)\n",
    "\n",
    "        # Back propagation.\n",
    "        dZ, dW2, db2 = back_prop(dy, params2)\n",
    "        dX, dW1, db1 = back_prop(dZ, params1)\n",
    "\n",
    "        # Update parameters along the gradients.\n",
    "        W1 -= (learning_rate * dW1)\n",
    "        b1 -= (learning_rate * db1)\n",
    "        W2 -= (learning_rate * dW2)\n",
    "        b2 -= (learning_rate * db2)\n",
    "\n",
    "        # Save loss and accuracy for plotting the curves.\n",
    "        all_loss.append(loss)\n",
    "        accuracies.append(accuracy(y_out, y))\n",
    "\n",
    "        # Print progress every 100 iterations.\n",
    "        if it % 100 == 0:\n",
    "            print 'After iteration %d, loss = %f, accuracy = %f' % (\n",
    "                it, loss, accuracies[-1])\n",
    "\n",
    "    # Print the training accuracy at the very last.\n",
    "    print 'Accuracy on training data: %f' % accuracies[-1]\n",
    "\n",
    "    # Pack the trained parameters and return it.\n",
    "    model = (W1, b1, W2, b2)\n",
    "    return model, all_loss, accuracies"
   ]
  },
  {
   "cell_type": "markdown",
   "metadata": {},
   "source": [
    "## Testing\n",
    "\n",
    "Testing is simply to feed forward the entire network using the testing data \n",
    "and retrieve the network output."
   ]
  },
  {
   "cell_type": "code",
   "execution_count": 7,
   "metadata": {
    "collapsed": true
   },
   "outputs": [],
   "source": [
    "def test(X, model):\n",
    "    \"\"\"\n",
    "    Make prediction on X using model by doing forward feeding.\n",
    "\n",
    "    Args:\n",
    "        X: The data matrix of shape (n, p)\n",
    "        model: tuple of trained parameters (W1, b1, W2, b2).\n",
    "\n",
    "    Returns:\n",
    "        y_predict: The prediction of shape (n, 1).\n",
    "\n",
    "    \"\"\"\n",
    "    W1, b1, W2, b2 = model\n",
    "    Z, _ = feed_forward(X, W1, b1)\n",
    "    y_predict, _ = feed_forward(Z, W2, b2)\n",
    "    return y_predict"
   ]
  },
  {
   "cell_type": "markdown",
   "metadata": {},
   "source": [
    "## Toy example with hand-written digits\n",
    "\n",
    "Here we use the digits dataset from scikit-learn to train and test our two-layer neural network."
   ]
  },
  {
   "cell_type": "code",
   "execution_count": 8,
   "metadata": {
    "collapsed": false
   },
   "outputs": [
    {
     "data": {
      "image/png": "[encoded data removed]",
      "text/plain": [
       "<matplotlib.figure.Figure at 0x1071b7fd0>"
      ]
     },
     "metadata": {},
     "output_type": "display_data"
    }
   ],
   "source": [
    "# load data\n",
    "def load_digits(subset=None, normalize=True):\n",
    "    \"\"\"\n",
    "    Load digits and labels from digits.csv.\n",
    "\n",
    "    Args:\n",
    "        subset: A subset of digit from 0 to 9 to return.\n",
    "                If not specified, all digits will be returned.\n",
    "        normalize: Whether to normalize data values to between 0 and 1.\n",
    "\n",
    "    Returns:\n",
    "        digits: Digits data matrix of the subset specified.\n",
    "                The shape is (n, p), where\n",
    "                    n is the number of examples,\n",
    "                    p is the dimension of features.\n",
    "        labels: Labels of the digits in an (n, ) array.\n",
    "                Each of label[i] is the label for data[i, :]\n",
    "    \"\"\"\n",
    "    # load digits.csv, adopted from sklearn.\n",
    "    import pandas as pd\n",
    "    df = pd.read_csv('digits.csv')\n",
    "\n",
    "    # only keep the numbers we want.\n",
    "    if subset is not None:\n",
    "        df = df[df.iloc[:,-1].isin(subset)]\n",
    "\n",
    "    # convert to numpy arrays.\n",
    "    digits = df.iloc[:,:-1].values.astype('float')\n",
    "    labels = df.iloc[:,-1].values.astype('int')\n",
    "\n",
    "    # Normalize digit values to 0 and 1.\n",
    "    if normalize:\n",
    "        digits -= digits.min()\n",
    "        digits /= digits.max()\n",
    "\n",
    "    # Change the labels to 0 and 1.\n",
    "    for i in xrange(len(subset)):\n",
    "        labels[labels == subset[i]] = i\n",
    "\n",
    "    labels = labels.reshape((labels.shape[0], 1))\n",
    "    return digits, labels\n",
    "\n",
    "\n",
    "def display_samples(digits, labels, n_samples=5):\n",
    "    \"\"\"\n",
    "    Display random samples from the training set for each label.\n",
    "    \"\"\"\n",
    "    distinct_label = np.unique(labels[:,0])\n",
    "\n",
    "    fig_rows = len(distinct_label)\n",
    "    fig_cols = n_samples\n",
    "    fig_num = 1\n",
    "\n",
    "    fig = plt.figure(1)\n",
    "    fig.suptitle('Random samples of training data')\n",
    "    for label in distinct_label:\n",
    "        # random choose samples to display\n",
    "        choice = np.random.choice(np.ix_(labels[:,0] == label)[0], n_samples)\n",
    "        for idx in choice:\n",
    "            ax = fig.add_subplot(fig_rows, fig_cols, fig_num)\n",
    "            fig.subplots_adjust(wspace=0, hspace=0)\n",
    "            ax.set_title(labels[idx])\n",
    "            ax.imshow(digits[idx].reshape(8,8), cmap=plt.cm.gray_r, interpolation='none')\n",
    "            ax.axis('off')\n",
    "            fig_num += 1\n",
    "    plt.show()\n",
    "\n",
    "# Load digits and labels.\n",
    "digits, labels = load_digits(subset=[3, 5], normalize=True)\n",
    "\n",
    "# Uncomment the following line to visualize samples from data.\n",
    "display_samples(digits, labels)\n",
    "\n"
   ]
  },
  {
   "cell_type": "markdown",
   "metadata": {},
   "source": [
    "In practice, we usually split the dataset into a training set and a testing test\n",
    "and only train the model using the training set.\n",
    "The model's performance on testing set gives us a general idea on how good our model can do in new data."
   ]
  },
  {
   "cell_type": "code",
   "execution_count": 9,
   "metadata": {
    "collapsed": false
   },
   "outputs": [
    {
     "name": "stdout",
     "output_type": "stream",
     "text": [
      "# training 255\n",
      "# testing 110\n",
      "After iteration 0, loss = 114.028019, accuracy = 0.494118\n",
      "After iteration 100, loss = 20.677604, accuracy = 0.894118\n",
      "After iteration 200, loss = 6.524035, accuracy = 0.984314\n",
      "After iteration 300, loss = 3.366022, accuracy = 0.996078\n",
      "After iteration 400, loss = 2.295989, accuracy = 0.996078\n",
      "After iteration 500, loss = 1.754197, accuracy = 0.996078\n",
      "After iteration 600, loss = 1.432228, accuracy = 0.996078\n",
      "After iteration 700, loss = 1.218119, accuracy = 0.996078\n",
      "After iteration 800, loss = 1.062658, accuracy = 0.996078\n",
      "After iteration 900, loss = 0.942025, accuracy = 0.996078\n",
      "After iteration 1000, loss = 0.843852, accuracy = 0.996078\n",
      "After iteration 1100, loss = 0.761368, accuracy = 0.996078\n",
      "After iteration 1200, loss = 0.690674, accuracy = 0.996078\n",
      "After iteration 1300, loss = 0.629375, accuracy = 0.996078\n",
      "After iteration 1400, loss = 0.575861, accuracy = 0.996078\n",
      "After iteration 1500, loss = 0.528940, accuracy = 1.000000\n",
      "After iteration 1600, loss = 0.487655, accuracy = 1.000000\n",
      "After iteration 1700, loss = 0.451204, accuracy = 1.000000\n",
      "After iteration 1800, loss = 0.418898, accuracy = 1.000000\n",
      "After iteration 1900, loss = 0.390147, accuracy = 1.000000\n",
      "Accuracy on training data: 1.000000\n",
      "Accuracy on testing data: 0.981818\n"
     ]
    }
   ],
   "source": [
    "def split_samples(digits, labels):\n",
    "    \"\"\"Split the data into a training set (70%) and a testing set (30%).\"\"\"\n",
    "    num_samples = digits.shape[0]\n",
    "    num_training = int(round(num_samples * 0.7))\n",
    "    indices = np.random.permutation(num_samples)\n",
    "    training_idx, testing_idx = indices[:num_training], indices[num_training:]\n",
    "    return (digits[training_idx], labels[training_idx],\n",
    "            digits[testing_idx], labels[testing_idx])\n",
    "\n",
    "\n",
    "training_digits, training_labels, testing_digits, testing_labels = split_samples(digits, labels)\n",
    "print '# training', training_digits.shape[0]\n",
    "print '# testing', testing_digits.shape[0]\n",
    "\n",
    "from sklearn.cross_validation import train_test_split\n",
    "X_train, X_test, y_train, y_test = train_test_split(digits, labels, test_size=0.3, random_state=1)\n",
    "\n",
    "# Train a net and display training accuracy.\n",
    "model, all_loss, all_accuracies = train(X_train, y_train, loss_function=loss_l2)\n",
    "\n",
    "# Evaluate on the testing set.\n",
    "y_predict = test(X_test, model)\n",
    "testing_accuracy = accuracy(y_predict, y_test)\n",
    "print 'Accuracy on testing data: %f' % testing_accuracy\n",
    "\n"
   ]
  },
  {
   "cell_type": "markdown",
   "metadata": {
    "collapsed": true
   },
   "source": [
    "The following code segment plots the loss and training accuracy in the training."
   ]
  },
  {
   "cell_type": "code",
   "execution_count": 10,
   "metadata": {
    "collapsed": false
   },
   "outputs": [
    {
     "data": {
      "image/png": "[encoded data removed]",
      "text/plain": [
       "<matplotlib.figure.Figure at 0x10480f8d0>"
      ]
     },
     "metadata": {},
     "output_type": "display_data"
    }
   ],
   "source": [
    "# Plot the curves.\n",
    "plt.figure(figsize=(10,5))\n",
    "plt.subplot(1, 2, 1)\n",
    "plt.ylabel('Loss')\n",
    "plt.xlabel('Iteration')\n",
    "plt.plot(range(len(all_loss)), all_loss)\n",
    "plt.subplot(1, 2, 2)\n",
    "plt.ylabel('Accuracy')\n",
    "plt.xlabel('Iteration')\n",
    "plt.plot(range(len(all_accuracies)), all_accuracies)\n",
    "plt.show()"
   ]
  }
 ],
 "metadata": {
  "kernelspec": {
   "display_name": "Python 2",
   "language": "python",
   "name": "python2"
  },
  "language_info": {
   "codemirror_mode": {
    "name": "ipython",
    "version": 2
   },
   "file_extension": ".py",
   "mimetype": "text/x-python",
   "name": "python",
   "nbconvert_exporter": "python",
   "pygments_lexer": "ipython2",
   "version": "2.7.10"
  }
 },
 "nbformat": 4,
 "nbformat_minor": 0
}

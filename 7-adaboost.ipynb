{
 "cells": [
  {
   "cell_type": "markdown",
   "metadata": {},
   "source": [
    "# AdaBoost\n",
    "\n",
    "Let's first examine AdaBoost from the perspective of loss function. Recall that we have seen loss functions for logisitic regression and SVM.\n",
    "$$\n",
    "\\begin{align}\n",
    "\\ell_{logistic} &= \\sum_{i=1}^{n} \\log (1 + e^{-y_ix_i^T\\beta}),  \\\\\n",
    "\\ell_{hinge} &= \\sum_{i=1}^{n} \\max (0, 1 -y_ix_i^T\\beta).\n",
    "\\end{align}\n",
    "$$\n",
    "\n",
    "In AdaBoost, the loss function is in the exponential form:\n",
    "$$\\ell_{AdaBoost} = \\sum_{i=1}^{n} e^{-y_i \\sum_{k=1}^{m}\\beta_k h_k(x_i)},$$\n",
    "where $h_k(x_i) \\in \\{+, -\\}$ are weak classifiers (aka. week learners or base learners).\n",
    "\n",
    "The following code segment plots these loss functions."
   ]
  },
  {
   "cell_type": "code",
   "execution_count": 1,
   "metadata": {
    "collapsed": false
   },
   "outputs": [
    {
     "data": {
      "image/png": "[encoded data removed]",
      "text/plain": [
       "<matplotlib.figure.Figure at 0x107a69950>"
      ]
     },
     "metadata": {},
     "output_type": "display_data"
    }
   ],
   "source": [
    "%matplotlib inline\n",
    "\n",
    "import numpy as np\n",
    "import matplotlib.pyplot as plt\n",
    "\n",
    "def logit_loss(s):\n",
    "    return np.log(1 + np.exp(-s))\n",
    "\n",
    "def hinge_loss(s):\n",
    "    return np.maximum(0, 1-s)\n",
    "\n",
    "def exp_loss(s):\n",
    "    return np.exp(-s)\n",
    "\n",
    "s = np.arange(-1, 5, 0.1)\n",
    "\n",
    "# plot the sigmoid curve.\n",
    "plt.figure(figsize=(6, 3))\n",
    "plt.plot(s, logit_loss(s), label=\"Logistic\")\n",
    "plt.plot(s, hinge_loss(s), label=\"Hinge loss\")\n",
    "plt.plot(s, exp_loss(s), label=\"Exp loss\")\n",
    "plt.grid()\n",
    "plt.legend()\n",
    "plt.show()"
   ]
  },
  {
   "cell_type": "markdown",
   "metadata": {},
   "source": [
    "## Training\n",
    "\n",
    "Examine the loss function\n",
    "$$\\ell_{AdaBoost} = \\sum_{i=1}^{n} e^{-y_i \\sum_{k=1}^{m}\\beta_k h_k(x_i)}.$$\n",
    "\n",
    "Intuitively, the set of $h_k()$'s forms a committe, each member has a voting weight $\\beta_k$. The classification decision is made based on the voting of committe members, $\\textrm{sign}\\left(\\sum_k \\beta_k h_k(x_i)\\right)$.\n",
    "\n",
    "When training a AdaBoost classifier, we usually use a sequential method where we select committe memebers one after another so that training examples are getting separated gradually.\n",
    "\n",
    "Suppose a commitee with $k$ classifiers, we want to add a new memeber $h_\\textrm{new}$. The votes are\n",
    "$$\n",
    "\\begin{align}\n",
    "\\textrm{current committe:} \\quad & \\sum_{i=1}^{m} \\beta_k h_k(x_i), \\\\\n",
    "\\textrm{add a new member:} \\quad & \\sum_{i=1}^{m} \\beta_k h_k(x_i) + \\beta_\\textrm{new} h_\\textrm{new}(x_i).\n",
    "\\end{align}\n",
    "$$\n",
    "\n",
    "After adding a member, the loss function becomes:\n",
    "$$\\ell_{AdaBoost} = \\sum_{i=1}^{n} e^{-y_i \\left( \\sum_{k=1}^{m}\\beta_k h_k(x_i) + \\beta_\\textrm{new} h_\\textrm{new}(x_i) \\right)},$$\n",
    "\n",
    "Take derivative\n",
    "$$\\dfrac{\\partial \\ell}{\\partial \\beta_\\textrm{new}} = \\sum_{i=1}^{n} e^{-y_i \\left( \\sum_{k=1}^{m}\\beta_k h_k(x_i)+ \\beta_\\textrm{new} h_\\textrm{new}(x_i) \\right)}\\cdot \\left(- y_i h_\\textrm{new}(x_i)\\right).$$\n"
   ]
  },
  {
   "cell_type": "markdown",
   "metadata": {},
   "source": [
    "### Choose a new member $h_\\textrm{new}$\n",
    "\n",
    "At the point we haven't choose a new member, $\\beta_\\textrm{new} =0$, the above gradient can be written as\n",
    "\n",
    "$$\\dfrac{\\partial \\ell}{\\partial \\beta_\\textrm{new}}\\Bigr|_{\\substack{\\beta_{\\textrm{new}}=0}} = \\sum_{i=1}^{n} e^{-y_i \\left( \\sum_{k=1}^{m}\\beta_k h_k(x_i)\\right)}\\cdot \\left(- y_i h_\\textrm{new}(x_i)\\right) = -\\sum_{i=1}^{n} w_i y_i h_\\textrm{new}(x_i),$$\n",
    "where $$w_i = e^{-y_i \\left( \\sum_{k=1}^{m}\\beta_k h_k(x_i)\\right)}.$$\n",
    "\n",
    "Here we want to choose the weak classifer $h_\\textrm{new}$ which gives the maximum drop in loss, i.e. we want to maximize $\\sum_{i=1}^{n} w_i y_i h_\\textrm{new}(x_i)$.\n",
    "\n",
    "Intuitively, we can consider the original training examples being _weighted_ by $w_i$'s (voting from current committe). The correctly classified examples receive lower weights, whereas the wrongly classified examples get higher weights. Then the ideal $h_\\textrm{new}$ is the one which can do well in this weighted examples among all candidates. This new weak classifier therefore comes to resolve the issues that the current committe cannot handle well."
   ]
  },
  {
   "cell_type": "markdown",
   "metadata": {},
   "source": [
    "### Determine the voting weight $\\beta_\\textrm{new}$\n",
    "\n",
    "To find $\\beta_\\textrm{new}$, we set the derivative to 0,\n",
    "$$\n",
    "\\begin{align}\n",
    "\\dfrac{\\partial \\ell}{\\partial \\beta_\\textrm{new}} &= 0, \\\\\n",
    "\\sum_{i=1}^{n} w_i e^{-y_i \\beta_\\textrm{new} h_\\textrm{new}(x_i)}\\cdot y_i h_\\textrm{new}(x_i) &= 0,\\\\\n",
    "\\sum_{i\\in \\textrm{correct}} w_i e^{-\\beta_\\textrm{new}} &= \\sum_{i\\in \\textrm{wrong}} w_i e^{\\beta_\\textrm{new}},\\\\\n",
    "\\sum_{i\\in \\textrm{correct}} w_i &= \\sum_{i\\in \\textrm{wrong}} w_i e^{2\\beta_\\textrm{new}}.\n",
    "\\end{align}\n",
    "$$\n",
    "If we define _error rate_ as $\\epsilon = \\dfrac{\\sum_{i\\in \\textrm{wrong}}w_i}{\\sum_{i}w_i}$, $\\beta_\\textrm{new}$ can be written as \n",
    "$$\n",
    "\\beta_{\\textrm{new}} = \\dfrac{1}{2} \\log\\dfrac{1- \\epsilon}{\\epsilon}.\n",
    "$$\n",
    "\n",
    "It says that the weight is determined by how much error $h_\\textrm{new}$ made on the weighted data.\n",
    "This also explains the name of AdaBoost, where \"Ada\" means _adapative_."
   ]
  },
  {
   "cell_type": "code",
   "execution_count": 2,
   "metadata": {
    "collapsed": false
   },
   "outputs": [],
   "source": [
    "np.random.seed(1)\n",
    "\n",
    "def adaboost(X, y, X_test, y_test, num_iteration=50):\n",
    "    n, p = X.shape\n",
    "    \n",
    "    th = 0.8\n",
    "    X_transformed = 2*(X > th) - 1\n",
    "    X_test_transformed = 2*(X_test > th) - 1\n",
    "    \n",
    "    acc, acc_test = [], []\n",
    "    \n",
    "    beta = np.zeros((p, 1))\n",
    "    \n",
    "    # Initially, all weights are same.\n",
    "    weights = np.ones((n, 1))\n",
    "    \n",
    "    # Results from weak classifier: yi * h(x_i)\n",
    "    weak_results = y*X_transformed > 0\n",
    "    \n",
    "    for i in xrange(num_iteration):\n",
    "        # Normalize weights.\n",
    "        weights = weights / np.sum(weights)\n",
    "        \n",
    "        # Calculate the error on weighted examples.\n",
    "        weighted_weak_results = weights * weak_results\n",
    "        weighted_accuracy = np.sum(weighted_weak_results, axis=0)\n",
    "        error = 1 - weighted_accuracy\n",
    "\n",
    "        # Select the one with the min error and update the beta.\n",
    "        j = np.argmin(error)\n",
    "        dbeta = np.log((1 - error[j])/error[j])/2\n",
    "        beta[j] = beta[j] + dbeta\n",
    "        \n",
    "        # Update the weights sequentially to avoid overflow.\n",
    "        weights = weights * np.exp(-dbeta*weak_results[:,j].reshape((n, 1)))\n",
    "        \n",
    "        # Calcualte accuracy on training and testing data.\n",
    "        score = X_transformed.dot(beta)\n",
    "        acc.append(np.mean(np.sign(score) == y))\n",
    "        acc_test.append(np.mean(np.sign(X_test_transformed.dot(beta)) == y_test))\n",
    "    \n",
    "    return beta, acc, acc_test"
   ]
  },
  {
   "cell_type": "code",
   "execution_count": 3,
   "metadata": {
    "collapsed": false
   },
   "outputs": [
    {
     "name": "stdout",
     "output_type": "stream",
     "text": [
      "# training: 255\n",
      "# testing : 110\n"
     ]
    },
    {
     "data": {
      "image/png": "[encoded data removed]",
      "text/plain": [
       "<matplotlib.figure.Figure at 0x107a82fd0>"
      ]
     },
     "metadata": {},
     "output_type": "display_data"
    }
   ],
   "source": [
    "from common import load_digits, split_samples\n",
    "\n",
    "# Load digits and split the data into two sets.\n",
    "digits, labels = load_digits(subset=[3, 5], normalize=True)\n",
    "training_digits, training_labels, testing_digits, testing_labels = split_samples(digits, labels)\n",
    "\n",
    "print '# training:', training_digits.shape[0]\n",
    "print '# testing :', testing_digits.shape[0]\n",
    "\n",
    "# Transform labels from {0, 1} to {-1, 1}.\n",
    "training_labels = 2* training_labels -1\n",
    "testing_labels = 2* testing_labels -1\n",
    "\n",
    "# Train a svm classifier.\n",
    "beta, acc, acc_test = adaboost(training_digits, training_labels, testing_digits, testing_labels)\n",
    "\n",
    "# Plot the accuracy.\n",
    "plt.figure()\n",
    "plt.plot(range(len(acc)), acc, color='b', label='Training Accuracy')\n",
    "plt.plot(range(len(acc)), acc_test, color='r', label='Testing Accuracy')\n",
    "plt.legend(loc='best')\n",
    "plt.show()"
   ]
  },
  {
   "cell_type": "markdown",
   "metadata": {},
   "source": [
    "## Remarks and a bit of history\n",
    "\n",
    "AdaBoost was originally developed for answering a theoretical question about \"whether strong learning = weak learning\" (starting from the perspective of game theory instead of loss function). Then it turns out to be very useful in practice. AdaBoost seldom overfits. Most of the time, the loss function tries to increase the margin. One can be saved from overfitting only by training the classifier sequentially. The key lies in the fixing weights for the already learned classifiers. If, otherwise, you minimize the loss function using gradient descent, the resulting classifier will overfit.\n",
    "\n",
    "The original idea of boosting was non-adapative.\n",
    "* Read in a batch of (say 100) examples, learn a $h_1$;\n",
    "* Read another 100 examples, classify using $h_1$, then learn a new classifier $h_2$ with the mistake;\n",
    "* Read another 100 examples, classify using $h_1, h_2$, then learn $h_3$ with the mistake.\n",
    "\n",
    "The committe simply perform a majority vote by $h_1+h_2+h3$. One can use this method to get a lot of committes and futher form bigger committes. Still, this gives you $\\sum_k h_k$.\n",
    "\n",
    "Later people discovered this adapative boosting, which gives a voting weight $\\beta_k$ to each classifier $h_k$."
   ]
  },
  {
   "cell_type": "code",
   "execution_count": null,
   "metadata": {
    "collapsed": true
   },
   "outputs": [],
   "source": []
  }
 ],
 "metadata": {
  "kernelspec": {
   "display_name": "Python 2",
   "language": "python",
   "name": "python2"
  },
  "language_info": {
   "codemirror_mode": {
    "name": "ipython",
    "version": 2
   },
   "file_extension": ".py",
   "mimetype": "text/x-python",
   "name": "python",
   "nbconvert_exporter": "python",
   "pygments_lexer": "ipython2",
   "version": "2.7.10"
  }
 },
 "nbformat": 4,
 "nbformat_minor": 0
}

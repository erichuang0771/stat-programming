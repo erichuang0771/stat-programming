{
 "cells": [
  {
   "cell_type": "markdown",
   "metadata": {},
   "source": [
    "# QR Decomposition\n",
    "\n",
    "QR decomposition is to decompose a matrix $A$ into a product $A=QR$ of an orthogonal matrix $Q$ and a upper triangular matrix $R$.\n",
    "\n",
    "## Orthogonal Matrix\n",
    "\n",
    "Let $Q = (q_1, q_2, \\ldots, q_n)$ be an orthogonal matrix, $Q^T Q = QQ^T = I$\n",
    "\n",
    "* For each vector $q_i$, $\\langle q_i, q_i \\rangle = 1$. i.e $\\left|q_i\\right| = 1$.\n",
    "* For any two of the vectors $q_i$ and $q_j$, the inner product $\\langle q_i, q_j \\rangle = 0$, which means they are orthogonal.\n",
    "\n",
    "$Q$ consists of $n$ orthogonal basis. Given a vector $v$ in original space, the coordinates in the new space defined by $Q$ is\n",
    "\n",
    "$$u = Q^T v.$$"
   ]
  },
  {
   "cell_type": "markdown",
   "metadata": {},
   "source": [
    "## Using householder reflections\n",
    "\n",
    "To get a QR decomposition, we can construct householder reflections repeatedly. Given a matrix, as the first step, we want to find a orthogonal transformation $H_1$ such that only the first element in the first column is non-zero after the transformation.\n",
    "$$\n",
    "\\begin{bmatrix}\n",
    "x_{11} & x_{12} & \\ldots & y_1\\\\\n",
    "x_{21} & x_{22} & \\ldots & y_2\\\\\n",
    "\\ldots & \\ldots & \\ldots & \\ldots\\\\\n",
    "x_{n1} & x_{n2} & \\ldots & y_n\\\\\n",
    "\\end{bmatrix}\n",
    "\\xrightarrow{H_1}\n",
    "\\begin{bmatrix}\n",
    "x_{11}^{*} & x_{12}^{*} & \\ldots & y_1^{*}\\\\\n",
    "0 & x_{22}^{*} & \\ldots & y_2^{*}\\\\\n",
    "\\ldots & \\ldots & \\ldots & \\ldots\\\\\n",
    "0 & x_{n2}^{*} & \\ldots & y_n^{*}\\\\\n",
    "\\end{bmatrix}\n",
    "$$\n",
    "\n",
    "Note that since the orthogonal transformation preserves the length of vectors, we know \n",
    "$$\\left|x_1^*\\right| = \\left| x_1 \\right| = \\sqrt{(x_{11}^2 + x_{12}^2 + \\ldots + x_{1n}^2)} ,$$\n",
    "which means the value of $x_{11}$ is determined\n",
    "$$x_{11}^* = \\pm \\left| x_1 \\right|.$$\n",
    "\n",
    "In actual the implementation, the sign is chosen as the opposite of $x_{11}$ for numerical stability.\n",
    "\n",
    "To find a transformation $H$ which can rotate vector $x_1$ to $x_1^{*}$,\n",
    "one simple way is to construct an isosceles triangle where $x_1^*$ is just a reflection of $x_1$.\n",
    "$$x_1^* = x_1 - 2 \\langle x_1, u \\rangle u = x_1 - 2 u u^{T}x_1 = H_1 x_1,$$\n",
    "where\n",
    "$$u = \\dfrac{x_1 \\pm x_1^*}{ \\left| x_1 \\pm x_1^* \\right| },\\quad H_1 = I - 2 u u^{T}.$$\n",
    "\n",
    "<img src=\"figures/householder-reflection.png\">\n",
    "\n",
    "To transform the original matrix $A_{n\\times p}$ into a upper triganle matrix, we can repeat this procedure $p$ times, \n",
    "the orthogonal matrix $H = H_p\\ldots H_2 H_1$.\n",
    "Hence, $ HA = R$. let $Q = H^T$, we obtain the QR decomposition of $A$\n",
    "$$\n",
    "A  = QR.\n",
    "$$"
   ]
  },
  {
   "cell_type": "code",
   "execution_count": 1,
   "metadata": {
    "collapsed": true
   },
   "outputs": [],
   "source": [
    "import numpy as np\n",
    "\n",
    "def qr(A):\n",
    "    n, m = A.shape\n",
    "    R = A.copy()\n",
    "    Q = np.eye(n)\n",
    "\n",
    "    for k in range(m-1):\n",
    "        x = np.zeros((n, 1))\n",
    "        x[k:, 0] = R[k:, k]\n",
    "        s = -1 * np.sign(x[k, 0])\n",
    "        v = x\n",
    "        v[k] = x[k] - s*np.linalg.norm(x)\n",
    "        u = v / np.linalg.norm(v)\n",
    "        \n",
    "        R -= 2 * np.dot(u, np.dot(u.T, R))\n",
    "        Q -= 2 * np.dot(u, np.dot(u.T, Q))\n",
    "    return Q.T, R"
   ]
  },
  {
   "cell_type": "code",
   "execution_count": 2,
   "metadata": {
    "collapsed": false
   },
   "outputs": [
    {
     "name": "stdout",
     "output_type": "stream",
     "text": [
      "[myqr] Q\n",
      "[[-0.53452248 -0.6172134  -0.57735027]\n",
      " [ 0.26726124 -0.77151675  0.57735027]\n",
      " [-0.80178373  0.15430335  0.57735027]]\n",
      "[myqr] R\n",
      "[[ 3.74165739  0.53452248 -1.87082869]\n",
      " [-0.         -3.7032804  -5.40061725]\n",
      " [ 0.          0.          2.30940108]]\n",
      "[numpy] Q\n",
      "[[-0.53452248 -0.6172134  -0.57735027]\n",
      " [ 0.26726124 -0.77151675  0.57735027]\n",
      " [-0.80178373  0.15430335  0.57735027]]\n",
      "[numpy] R\n",
      "[[ 3.74165739  0.53452248 -1.87082869]\n",
      " [ 0.         -3.7032804  -5.40061725]\n",
      " [ 0.          0.          2.30940108]]\n"
     ]
    }
   ],
   "source": [
    "# Test our QR function\n",
    "A = np.array([[-2.0, 2, 3],\n",
    "              [1, 3, 5],\n",
    "              [-3, -1, 2]])\n",
    "\n",
    "Q, R = qr(A)\n",
    "\n",
    "print '[myqr] Q'\n",
    "print Q.round(8)\n",
    "print '[myqr] R'\n",
    "print R.round(8)\n",
    "\n",
    "Q_gt, R_gt = np.linalg.qr(A)\n",
    "print '[numpy] Q'\n",
    "print Q_gt\n",
    "print '[numpy] R'\n",
    "print R_gt"
   ]
  },
  {
   "cell_type": "markdown",
   "metadata": {},
   "source": [
    "## Solving least-squares using QR decompostion\n",
    "\n",
    "Consider rotate the matrix $(X Y)$ by some orthogonal matrix $Q$,\n",
    "$$\\begin{bmatrix}X & Y\\end{bmatrix} \\xrightarrow{Q^T} \\begin{bmatrix}R & Y^*\\end{bmatrix} = \\begin{bmatrix}R_1 & Y_1^*\\\\ 0 & Y_2^*\\end{bmatrix},$$\n",
    "where $R_1$ is a upper triangular matrix.\n",
    "\n",
    "To solve the least square, \n",
    "$$ \\min_{\\beta} \\left|Y^* - R\\beta\\right|^2 = \\min_{\\beta} \\left(\\left|Y_1^* -R_1\\beta \\right|^2 + \\left| Y_2^* \\right|^2\\right).$$\n",
    "So the solution $\\hat{\\beta} = R_1^{-1}Y_1^*$ and $\\textrm{RSS} = \\left|Y_2^*\\right|^2$.\n",
    "\n",
    "To solve $\\hat{\\beta}$ is essentially easy, since $R_1$ is an upper triangular matrix. We can solve the elements of $\\hat{\\beta}$ in reverse order $\\hat{\\beta}_p, \\hat{\\beta}_{p-1}, \\ldots, \\hat{\\beta}_1$. It is numerically stable and efficient."
   ]
  },
  {
   "cell_type": "code",
   "execution_count": 3,
   "metadata": {
    "collapsed": false
   },
   "outputs": [
    {
     "name": "stdout",
     "output_type": "stream",
     "text": [
      "[ 0.54922972  0.10821076 -0.15395141 -0.07106197 -0.01305993]\n"
     ]
    }
   ],
   "source": [
    "# Synthesis a dataset with n observations and p predictors.\n",
    "n = 100\n",
    "p = 5\n",
    "X = np.random.random_sample((n, p))\n",
    "\n",
    "# True coefficients are 1, 2, ..., p.\n",
    "beta = np.array(range(1, p+1))\n",
    "Y = np.dot(X, beta) + np.random.standard_normal(n)\n",
    "\n",
    "# Stack (X Y) ans solve it by QR decomposition.\n",
    "# Here we add the first column to be 1's for solving the intercepts.\n",
    "Z = np.hstack((np.ones(n).reshape((n, 1)), X, Y.reshape((n, 1))))\n",
    "_, R = qr(Z)\n",
    "R1 = R[:p, :p]\n",
    "Y1 = R[:p, p]\n",
    "\n",
    "# Solve beta.\n",
    "beta = np.linalg.solve(R1, Y1)\n",
    "print beta"
   ]
  },
  {
   "cell_type": "code",
   "execution_count": null,
   "metadata": {
    "collapsed": true
   },
   "outputs": [],
   "source": []
  }
 ],
 "metadata": {
  "kernelspec": {
   "display_name": "Python 2",
   "language": "python",
   "name": "python2"
  },
  "language_info": {
   "codemirror_mode": {
    "name": "ipython",
    "version": 2
   },
   "file_extension": ".py",
   "mimetype": "text/x-python",
   "name": "python",
   "nbconvert_exporter": "python",
   "pygments_lexer": "ipython2",
   "version": "2.7.9"
  }
 },
 "nbformat": 4,
 "nbformat_minor": 0
}

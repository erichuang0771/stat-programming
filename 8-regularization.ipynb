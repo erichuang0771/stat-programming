{
 "cells": [
  {
   "cell_type": "markdown",
   "metadata": {},
   "source": [
    "# Regularization\n",
    "\n",
    "Lp norm:\n",
    "$$\n",
    "|\\beta|_{\\ell_p} = \\sum_{i=1}^{p} |\\beta_j|^{p}\n",
    "$$\n",
    "\n",
    "Specifically, \n",
    "$$\n",
    "|\\beta|_{\\ell_1} = \\sum_{i=1}^{p} |\\beta_j|, \\quad |\\beta|^2 = \\sum_{i=1}^{p} \\beta_j^2\n",
    "$$"
   ]
  },
  {
   "cell_type": "markdown",
   "metadata": {},
   "source": [
    "## Ridge Regression\n",
    "\n",
    "Ridge regression introduces L2 regularization to $\\beta$.\n",
    "\n",
    "* Least squares: $R(\\beta) = |Y-X\\beta|^2$\n",
    "\n",
    "* Ridge regression: $f(\\beta) = R(\\beta) + \\lambda|\\beta|^2$\n",
    "\n",
    "To find the solution, we take derivative: \n",
    "$$\n",
    "\\begin{align}\n",
    "f'(\\beta) =-2X^T (Y - X\\beta) + 2\\lambda\\beta^2 &= 0 \\\\\n",
    "(X^TX + \\lambda I) \\beta &= X^T Y,\n",
    "\\end{align}\n",
    "$$\n",
    "\n",
    "Hence, \n",
    "$$\n",
    "\\hat{\\beta} = (X^TX + \\lambda I)^{-1} X^T Y.\n",
    "$$\n",
    "\n",
    "Let $A = X^TX + \\lambda I$, the solution exists as long as $A$ is a positive definite matrix, i.e. $v^T A v > 0, \\forall v$."
   ]
  },
  {
   "cell_type": "markdown",
   "metadata": {},
   "source": [
    "The following code segment implements a ridge regression solver using the sweep operator."
   ]
  },
  {
   "cell_type": "code",
   "execution_count": 1,
   "metadata": {
    "collapsed": true
   },
   "outputs": [],
   "source": [
    "import numpy as np\n",
    "\n",
    "def sweep(A, k):\n",
    "    \"\"\"\n",
    "    Perform a SWEEP operation on A with the pivot element A[k,k].\n",
    "    \n",
    "    :param A: a square matrix.\n",
    "    :param k: the pivot element is A[k, k].\n",
    "    :returns a swept matrix. Original matrix is unchanged.\n",
    "    \"\"\"\n",
    "    n = A.shape[0]\n",
    "    if A.shape != (n, n):\n",
    "        raise ValueError('A is not a square array.')\n",
    "    if k >= n or k < 0:\n",
    "        raise IndexError('k is not a valid row index for pivot element.')\n",
    "        \n",
    "    # Fill with the general formula\n",
    "    B = A - np.outer(A[:, k], A[k, :]) / A[k, k]\n",
    "    \n",
    "    # Modify the k-th row and column\n",
    "    B[k, :] = A[k, :] / A[k, k]\n",
    "    B[:, k] = A[:, k] / A[k, k]\n",
    "    \n",
    "    # Modify the pivot\n",
    "    B[k, k] = -1 / A[k, k]\n",
    "    return B\n",
    "\n",
    "def ridge(X, y, lam):\n",
    "    n, p = X.shape\n",
    "    Z = np.column_stack((np.ones((n,1)), X, y))\n",
    "    A = Z.T.dot(Z)\n",
    "    D = np.eye(p+2) * lam\n",
    "    D[0, 0] = 0\n",
    "    D[-1, -1] = 0\n",
    "    A = A + D\n",
    "    for k in xrange(p+1):\n",
    "        A = sweep(A, k)\n",
    "    beta = A[0:p+1, p+1]\n",
    "    return beta"
   ]
  },
  {
   "cell_type": "markdown",
   "metadata": {},
   "source": [
    "## Spline Regression\n",
    "\n",
    "Consider the linear spline (piecewise linear) function\n",
    "$$\n",
    "g(x) = \\beta_0 + \\sum_{j=0}^{p} \\beta_j \\cdot \\max(0, x-k_j),\n",
    "$$\n",
    "where $\\beta_j$ is the change of slope at $k_j$.\n",
    "\n",
    "We assume the observations can be modeled by the a linear spline function\n",
    "$$\n",
    "\\begin{align}\n",
    "y_i &= g(x_i) + \\epsilon_i \\\\\n",
    "&= \\beta_0 + \\sum_{j=1}^{p} \\beta_j \\cdot \\max(0, x_i-k_j) + \\epsilon_i.\n",
    "\\end{align}\n",
    "$$\n",
    "\n",
    "Therefore, the objective function is:\n",
    "$$\n",
    "\\sum_{i=1}^{n}\\left[ y_i - \\left(\\beta_0 + \\sum_{j=1}^{p} \\beta_j \\cdot \\max(0, x_i-k_j)\\right) \\right]^2 + \\lambda \\sum_{i=1}^{p} \\beta_j^2.\n",
    "$$"
   ]
  },
  {
   "cell_type": "markdown",
   "metadata": {},
   "source": [
    "### A Simple Example\n",
    "\n",
    "Here as a simple example, we assume $x_i$'s are one dimentional and\n",
    "$$y_i = x_i^2 + \\epsilon_i.$$\n",
    "\n",
    "The following code uses the ridge solver, but fit a spline."
   ]
  },
  {
   "cell_type": "code",
   "execution_count": 2,
   "metadata": {
    "collapsed": false
   },
   "outputs": [
    {
     "data": {
      "image/png": "[encoded data removed]",
      "text/plain": [
       "<matplotlib.figure.Figure at 0x109178590>"
      ]
     },
     "metadata": {},
     "output_type": "display_data"
    }
   ],
   "source": [
    "np.random.seed(1)\n",
    "\n",
    "n = 100\n",
    "sigma = 0.1\n",
    "\n",
    "# Generate a set of true two dimensional points (x, y)\n",
    "# lies around a quadratic spline.\n",
    "x = np.sort(np.random.uniform(size=n))\n",
    "y = x**2 + np.random.standard_normal(size=n)*sigma\n",
    "\n",
    "def spline(x, beta=None, p=500, lam=10):\n",
    "    # Generate p-1 additional features.\n",
    "    X = np.copy(x)\n",
    "    n = x.shape[0]\n",
    "    for k in (np.arange(1, p, dtype='float')/p):\n",
    "        X = np.column_stack((X, (x > k)*(x - k)))\n",
    "\n",
    "    if beta is None:\n",
    "        # Fit a spline using ridge regression.\n",
    "        beta = ridge(X, y, lam)\n",
    "    y_hat = np.hstack((np.ones((n, 1)), X)).dot(beta)\n",
    "    return y_hat, beta\n",
    "\n",
    "y_hat, beta = spline(x)\n",
    "\n",
    "# Plot the original data and regression results.\n",
    "import matplotlib.pyplot as plt\n",
    "%matplotlib inline\n",
    "\n",
    "plt.figure()\n",
    "plt.plot(x, y, color='blue', label='Data')\n",
    "plt.plot(x, y_hat, color='red', label='Spline Regression', linewidth=2)\n",
    "plt.legend(loc=2)\n",
    "plt.xlim(0, 1)\n",
    "plt.ylim(-0.2, 1.2)\n",
    "plt.show()"
   ]
  },
  {
   "cell_type": "markdown",
   "metadata": {},
   "source": [
    "To find a optimal lambda, we usually try multiple options and plot the errors for training set and testing set respectively."
   ]
  },
  {
   "cell_type": "code",
   "execution_count": 3,
   "metadata": {
    "collapsed": false
   },
   "outputs": [
    {
     "data": {
      "image/png": "[encoded data removed]",
      "text/plain": [
       "<matplotlib.figure.Figure at 0x10949f350>"
      ]
     },
     "metadata": {},
     "output_type": "display_data"
    }
   ],
   "source": [
    "n = 20\n",
    "sigma = 0.1\n",
    "\n",
    "np.random.seed(5)\n",
    "# Generate a set of true two dimensional points (x, y)\n",
    "# lies around a quadratic spline.\n",
    "x = np.sort(np.random.uniform(size=n))\n",
    "y = x**2 + np.random.standard_normal(size=n)*sigma\n",
    "\n",
    "np.random.seed(2)\n",
    "x_test = np.sort(np.random.uniform(size=n))\n",
    "y_test = x_test**2 + np.random.standard_normal(n)*sigma\n",
    "\n",
    "errors_train = []\n",
    "errors_test = []\n",
    "\n",
    "lambdas = np.linspace(0.1, 2, 20)\n",
    "for lam in lambdas:\n",
    "    y_hat, beta = spline(x, p=100, lam=lam)\n",
    "    y_test_hat, _ = spline(x_test, beta, p=100, lam=lam)\n",
    "    \n",
    "    err_train = np.sum(np.abs(y_hat - y)) / y.shape[0]\n",
    "    errors_train.append(err_train)\n",
    "    \n",
    "    err_test = np.sum(np.abs(y_test_hat - y_test)) / y_test.shape[0]\n",
    "    errors_test.append(err_test)\n",
    "    \n",
    "plt.figure()\n",
    "plt.plot(lambdas, errors_train, color='b', label='Training error')\n",
    "plt.plot(lambdas, errors_test, color='r', label='Testing error')\n",
    "plt.ylabel('error')\n",
    "plt.xlabel('lambda')\n",
    "plt.legend()\n",
    "plt.show()"
   ]
  },
  {
   "cell_type": "markdown",
   "metadata": {},
   "source": [
    "## LASSO Regression\n",
    "\n",
    "It means least-absolute shrinkage selective operator. It adds a $\\ell_1$ regularization to induce sparcity (i.e. many of $\\beta_j$'s are zero.)\n",
    "\n",
    "$$\n",
    "f(\\beta) = |Y - X\\beta|^2 + \\lambda|\\beta|_{\\ell_1}\n",
    "$$"
   ]
  },
  {
   "cell_type": "code",
   "execution_count": null,
   "metadata": {
    "collapsed": true
   },
   "outputs": [],
   "source": []
  }
 ],
 "metadata": {
  "kernelspec": {
   "display_name": "Python 2",
   "language": "python",
   "name": "python2"
  },
  "language_info": {
   "codemirror_mode": {
    "name": "ipython",
    "version": 2
   },
   "file_extension": ".py",
   "mimetype": "text/x-python",
   "name": "python",
   "nbconvert_exporter": "python",
   "pygments_lexer": "ipython2",
   "version": "2.7.10"
  }
 },
 "nbformat": 4,
 "nbformat_minor": 0
}
